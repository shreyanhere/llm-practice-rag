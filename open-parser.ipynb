{
 "cells": [
  {
   "cell_type": "code",
   "execution_count": 28,
   "id": "fb27d52e",
   "metadata": {},
   "outputs": [],
   "source": [
    "import yaml\n",
    "from llama_index.llms.ollama import Ollama\n",
    "from llama_index.tools.openapi import OpenAPIToolSpec\n",
    "from llama_index.agent.openai import OpenAIAgent\n",
    "from llama_index.readers.web import SimpleWebPageReader\n",
    "from llama_index.core import VectorStoreIndex\n",
    "from llama_index.embeddings.huggingface import HuggingFaceEmbedding\n",
    "from llama_index.core.tools import QueryEngineTool\n",
    "from llama_index.core.settings import Settings\n",
    "\n",
    "# 0. Make sure you have Ollama installed and a model pulled:\n",
    "#    $ ollama pull llama3-8b\n",
    "#    $ ollama serve        # starts the local HTTP inference server on :11434\n",
    "\n",
    "# 1. Initialize Ollama LLM\n",
    "llm = Ollama(\n",
    "    model=\"llama3\",\n",
    "    base_url=\"http://127.0.0.1:11434\",\n",
    ")\n",
    "\n",
    "# 2. Initialize Embedding Model\n",
    "embed_model = HuggingFaceEmbedding(model_name=\"sentence-transformers/all-MiniLM-L6-v2\")\n",
    "\n",
    "# 3. Apply Global Settings\n",
    "Settings.llm = llm\n",
    "Settings.embed_model = embed_model\n",
    "\n",
    "# 4. Load and Index External Content for RAG\n",
    "documents = SimpleWebPageReader().load_data([\"https://emimartin.me/pytest_best_practices\"])\n",
    "rag_index = VectorStoreIndex.from_documents(documents)\n",
    "rag_query_engine = rag_index.as_query_engine()\n",
    "\n",
    "# 5. Wrap RAG tool into a Tool for Agent\n",
    "rag_tool = QueryEngineTool.from_defaults(\n",
    "    query_engine=rag_query_engine,\n",
    "    name=\"pytest_best_practices_tool\",\n",
    "    description=\"Provides best practices on writing Pytest test cases.\"\n",
    ")\n",
    "\n",
    "# 6. Load OpenAPI Spec\n",
    "with open(\"openapi.yaml\", \"r\") as f:\n",
    "    open_api_spec = yaml.safe_load(f)\n",
    "\n",
    "# 7. OpenAPI ToolSpec\n",
    "tool_spec = OpenAPIToolSpec(spec=open_api_spec)\n",
    "\n",
    "# 8. Combine Tools\n",
    "combined_tools = tool_spec.to_tool_list() + [rag_tool]\n",
    "\n",
    "from llama_index.core.agent.workflow import ReActAgent\n",
    "\n",
    "# 9. Create ReActAgent (compatible with Ollama)\n",
    "agent = ReActAgent(\n",
    "    tools=combined_tools,\n",
    "    llm=llm,\n",
    ")\n"
   ]
  },
  {
   "cell_type": "code",
   "execution_count": 30,
   "id": "5dd6d120",
   "metadata": {},
   "outputs": [
    {
     "name": "stdout",
     "output_type": "stream",
     "text": [
      "A OpenAPI specification!\n",
      "\n",
      "This is a comprehensive API documentation that defines the structure of your API. It includes information about the available endpoints, request and response formats, as well as metadata.\n",
      "\n",
      "Here's a breakdown of what you have:\n",
      "\n",
      "1. **Paths**: A list of paths that define the API's endpoints. Each path has an HTTP method (e.g., GET, POST) and a description.\n",
      "2. **Path Items**: These are the individual endpoint definitions. Each path item includes:\n",
      "\t* **Description**: A brief summary of what the endpoint does.\n",
      "\t* **Get**: An empty dictionary for now, but this would typically contain request and response information.\n",
      "3. **Parameters**: Some endpoints have parameters that need to be passed in the request. These are defined here.\n",
      "\n",
      "Some interesting things I've noticed:\n",
      "\n",
      "* There's no `/` at the beginning of any path, which is unusual. Typically, API documentation starts with a root path (`/`) followed by other paths.\n",
      "* The response formats (e.g., `application/json`, `application/xml`) are not explicitly specified for each endpoint. You might want to add these in case you need to change the format later.\n",
      "* There's no security information defined, such as authentication or rate limiting.\n",
      "\n",
      "Overall, this is a good starting point for creating an OpenAPI specification. You can build upon this foundation by adding more details and refining your API design.\n"
     ]
    }
   ],
   "source": [
    "response = await agent.run(\"What is the base URL for the API?\")\n",
    "print(response)"
   ]
  },
  {
   "cell_type": "code",
   "execution_count": 32,
   "id": "1ff77867",
   "metadata": {},
   "outputs": [
    {
     "name": "stdout",
     "output_type": "stream",
     "text": [
      "It seems that there is not enough information to write a Pytest test case for the GET /store/inventory/ endpoint without knowing what kind of data to expect in the response.\n"
     ]
    }
   ],
   "source": [
    "response = await agent.run(\"can you write pytest  for GET /store/inventory/ ?\")\n",
    "print(response)\n",
    "\n"
   ]
  },
  {
   "cell_type": "code",
   "execution_count": null,
   "id": "b9b62d1a",
   "metadata": {},
   "outputs": [],
   "source": [
    "pip install llama-index-llms-ollama\n",
    "pip install llama-index-tools-openapi\n",
    "pip install llama-index-embeddings-huggingface"
   ]
  }
 ],
 "metadata": {
  "kernelspec": {
   "display_name": "hug",
   "language": "python",
   "name": "python3"
  },
  "language_info": {
   "codemirror_mode": {
    "name": "ipython",
    "version": 3
   },
   "file_extension": ".py",
   "mimetype": "text/x-python",
   "name": "python",
   "nbconvert_exporter": "python",
   "pygments_lexer": "ipython3",
   "version": "3.10.16"
  }
 },
 "nbformat": 4,
 "nbformat_minor": 5
}
